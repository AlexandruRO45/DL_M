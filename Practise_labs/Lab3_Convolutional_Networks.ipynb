{
  "cells": [
    {
      "cell_type": "markdown",
      "metadata": {
        "id": "69z7xsgG0dUE"
      },
      "source": [
        "# Lab 3: Convolutional Networks\n"
      ]
    },
    {
      "cell_type": "markdown",
      "metadata": {
        "id": "yutyeB-fMkS2"
      },
      "source": [
        "## Overall Tasks\n",
        "\n",
        "(See if you can get to Step 3 in the lab itself in case you have questions since the last steps are really calculations and experimenting with the notebook ...)\n",
        "\n",
        "1. It might be good to first read through all this code to get a general idea of the workflow that we will follow.\n",
        "\n",
        "2. Then create the network architecture for a dense MLP (multi-layer perceptron) and a Conv2D network model as given in the Notebook cell below. (You may want to look at the PyTorch documentation for this.)\n",
        "\n",
        "3. Following the Notebook downward - then train each of these models. Run\n",
        "the test data through to see how the models got on. Compare the perfomance of Linear dense model and Conv2D model.\n",
        "\n",
        "4. Can you work out the number of parameters in your dense MLP network and your Conv2D network? Which one is more likely to overfit?\n",
        "\n",
        "5. Use this notebook to experiment with different numbers and sizes of layers and kernel sizes. Note the distinction between the loss (the function we optimise) and accuracy (the actual performance we care about)!\n",
        "\n",
        "6. See how using ADAM to optimise changes learning behaviour compared to SGD.\n",
        "\n",
        "\n",
        "---\n"
      ]
    },
    {
      "cell_type": "markdown",
      "metadata": {
        "id": "PuYkI8fT0YYH"
      },
      "source": [
        "This week we will get some hands-on experience with convolutional networks on 2D images.\n",
        "\n",
        "After this lab, you should:\n",
        "\n",
        "*   Understand how to build and train a convolutional neural network in PyTorch\n",
        "*   Know how to change the numbers and parameters of layers\n",
        "*   Have a point of comparison for the relative performance of fully connected vs. convolutional networks on a realistic dataset\n",
        "\n",
        "This is quite a challenging lab where **you will have to look up the PyTorch documentation for different classes** (and last week's lab) to write PyTorch models yourself.\n",
        "\n",
        "Again make sure you read through the code and try to work out how it is working. (There will be quite a few unfamiliar things introduced in this lab ... but you will get more used to these as the weeks go on.)\n",
        "\n",
        "First, we will set up a few things:\n",
        "\n",
        "**(IMPORTANT - read through the code! In particular note the comment that says that you should set your runtime on Colab to use a GPU !)**"
      ]
    },
    {
      "cell_type": "code",
      "execution_count": 9,
      "metadata": {
        "id": "PA84zBjcua7y"
      },
      "outputs": [
        {
          "name": "stdout",
          "output_type": "stream",
          "text": [
            "Using CUDA? True\n"
          ]
        }
      ],
      "source": [
        "# Common imports\n",
        "import numpy as np\n",
        "import os\n",
        "import torch\n",
        "import torch.nn as nn\n",
        "import torch.nn.functional as F\n",
        "import torch.optim as optim\n",
        "import seaborn as sns\n",
        "\n",
        "# to make this notebook's output stable across runs\n",
        "def reset_graph(seed=42):\n",
        "    tf.reset_default_graph()\n",
        "    tf.set_random_seed(seed)\n",
        "    np.random.seed(seed)\n",
        "\n",
        "# To plot pretty figures\n",
        "%matplotlib inline\n",
        "import matplotlib\n",
        "import matplotlib.pyplot as plt\n",
        "plt.rcParams['axes.labelsize']  = 14\n",
        "plt.rcParams['xtick.labelsize'] = 12\n",
        "plt.rcParams['ytick.labelsize'] = 12\n",
        "\n",
        "# Where to save the figures\n",
        "PROJECT_ROOT_DIR = \".\"\n",
        "CHAPTER_ID = \"pytorch\"\n",
        "\n",
        "# make sure you use the GPU (btw check your runtime is a GPU in colab)\n",
        "use_cuda = True\n",
        "device = torch.device(\"cuda\" if (use_cuda and torch.cuda.is_available()) else \"cpu\")\n",
        "\n",
        "\n",
        "def save_fig(fig_id, tight_layout=True):\n",
        "    path = os.path.join(PROJECT_ROOT_DIR, \"images\", CHAPTER_ID, fig_id + \".png\")\n",
        "    print(\"Saving figure\", fig_id)\n",
        "    if tight_layout:\n",
        "        plt.tight_layout()\n",
        "    plt.savefig(path, format='png', dpi=300)\n",
        "    files.download(PROJECT_ROOT_DIR+'/images/'+CHAPTER_ID+'/'+fig_id + \".png\")\n",
        "\n",
        "print(\"Using CUDA? \" + str(use_cuda))"
      ]
    },
    {
      "cell_type": "code",
      "execution_count": 10,
      "metadata": {},
      "outputs": [
        {
          "name": "stdout",
          "output_type": "stream",
          "text": [
            "CUDA is available. Using GPU for accelerated computations.\n",
            "Number of available CUDA devices: 1\n",
            "GPU device name: NVIDIA GeForce RTX 2060\n",
            "Using device: cuda\n"
          ]
        }
      ],
      "source": [
        "# Check if a CUDA-enabled GPU is available\n",
        "if torch.cuda.is_available():\n",
        "    device = torch.device(\"cuda\")\n",
        "    print(\"CUDA is available. Using GPU for accelerated computations.\")\n",
        "    print(\"Number of available CUDA devices:\", torch.cuda.device_count())\n",
        "    print(\"GPU device name:\", torch.cuda.get_device_name(0))  # Assuming for only one GPU, index 0\n",
        "else:\n",
        "    device = torch.device(\"cpu\")\n",
        "    print(\"CUDA is not available. Using CPU for computations.\")\n",
        "# Display the device being used\n",
        "print(f\"Using device: {device}\")"
      ]
    },
    {
      "cell_type": "markdown",
      "metadata": {
        "id": "YpzHjuUvxgrr"
      },
      "source": [
        "Now you need to define the network properties.\n",
        "\n",
        "Fill in the missing structure to implement:\n",
        "\n",
        " 1. A multi-layer linear, dense network for `model_dense`\n",
        " 2. A multi-layer convolutional network for `model`.\n",
        "\n",
        "You should know how to build the dense architecture from the last two weeks. Note we suggest the use of the `nn.Sequential` object, the use of an `OrderedDict` structure will allow you to name each layer, for clearer display when you print your model.  \n",
        "\n",
        "For the convnet, remember that the output of every `Conv2d` and `MaxPool2d` layer is a 3D tensor of shape *(channels, height, width)*. The *width* and *height* dimensions tend to shrink as we go deeper in the network (you can use the `padding` parameter to counteract this). The number of input channels is controlled by the first argument passed to the Conv2D layers (e.g. 32 or 64) and the number of kernels / output channels / feature maps is controlled by the second number. Remember to check the impact of padding parameters and maxpooling output dimensions when structuring the dimensions of the conv2d layers.\n",
        "\n",
        "The next step would be to feed our last output tensor (of shape (N, X, Y)) into a densely-connected classifier network like those you are already familiar with: a stack of Dense layers. These classifiers process vectors, which are 1D, whereas our current output is a 3D tensor. So first, we will have to flatten our 3D outputs to 1D (you can use `nn.Flatten` for this), and then add a few Dense layers after that (be careful to set the correct number of inputs for the dense layers, some calculations by hand are required here!).\n",
        "\n",
        "We are going to do 10-way classification, so use a final layer with 10 outputs and if you want probabilities out, you can use a `nn.Softmax` activation. (Note that if your cost function is [CrossEntropyLoss](https://pytorch.org/docs/stable/generated/torch.nn.CrossEntropyLoss.html) you should not use softmax for the output - the CrossEntropyLoss includes it internally!).\n",
        "\n",
        "I would suggest to start with *small* models: it will make the training faster. You can always push a bit the parameters for your last experiments at the end."
      ]
    },
    {
      "cell_type": "code",
      "execution_count": 11,
      "metadata": {
        "id": "sQE1avXc0R1Z"
      },
      "outputs": [],
      "source": [
        "import collections\n",
        "\n",
        "model_dense = nn.Sequential(collections.OrderedDict([\n",
        "\n",
        "    # You need to fill this in to create a fully connected network.\n",
        "    ('fc1', nn.Linear(28 * 28, 512)),  # Input size is 28x28=784\n",
        "    ('relu1', nn.ReLU()), # ReLU activation function\n",
        "    ('dropout1', nn.Dropout(0.2)), # Dropout layer with 20% dropout rate\n",
        "    ('fc2', nn.Linear(512, 10)),  # Output size is 10 classes\n",
        "        ]))\n",
        "\n",
        "model = nn.Sequential(collections.OrderedDict([\n",
        "\n",
        "    # You need to fill this in to create a convolutional network.\n",
        "    ('conv1', nn.Conv2d(1, 32, kernel_size=3, padding=1)),  # Input is 1 channel, output is 32 channels\n",
        "    ('relu1', nn.ReLU()),\n",
        "    ('maxpool1', nn.MaxPool2d(kernel_size=2, stride=2)),  # Output size is (32, 14, 14)\n",
        "    ('conv2', nn.Conv2d(32, 64, kernel_size=3, padding=1)),  # Input is 32 channels, output is 64 channels\n",
        "    ('relu2', nn.ReLU()),\n",
        "    ('maxpool2', nn.MaxPool2d(kernel_size=2, stride=2)),  # Output size is (64, 7, 7)\n",
        "    ('flatten', nn.Flatten()),  # Flatten the 3D tensor to 1D\n",
        "    ('fc1', nn.Linear(64 * 7 * 7, 128)),  # Input size is 64 * 7 * 7 = 3136\n",
        "    ('relu3', nn.ReLU()),\n",
        "    ('dropout1', nn.Dropout(0.2)),\n",
        "    ('fc2', nn.Linear(128, 10)),  # Output size is 10 classes\n",
        "        ]))\n",
        "\n"
      ]
    },
    {
      "cell_type": "markdown",
      "metadata": {},
      "source": [
        "Here's a breakdown of the convolutional network:\n",
        "\n",
        "1. The input to the network is a 28x28 grayscale image, with 1 channel.\n",
        "2. The first convolutional layer (`conv1`) has 32 output channels, a kernel size of 3x3, and a stride of 1. We use padding=1 to maintain the input spatial dimensions.\n",
        "3. The first max-pooling layer (`maxpool1`) has a kernel size of 2x2 and a stride of 2, reducing the spatial dimensions by half (14x14).\n",
        "4. The second convolutional layer (`conv2`) has 64 output channels, a kernel size of 3x3, and a stride of 1. We use padding=1 to maintain the input spatial dimensions.\n",
        "5. The second max-pooling layer (`maxpool2`) has a kernel size of 2x2 and a stride of 2, reducing the spatial dimensions by half (7x7).\n",
        "6. The `flatten` layer converts the 3D tensor (64, 7, 7) to a 1D tensor of size 3136.\n",
        "7. The first fully connected layer (`fc1`) takes the flattened tensor of size 3136 as input and outputs a tensor of size 128.\n",
        "8. The final fully connected layer (`fc2`) takes the tensor of size 128 as input and outputs a tensor of size 10, corresponding to the 10 classes in the Fashion MNIST dataset.\n",
        "\n",
        "Note that the input size to the first fully connected layer (`fc1`) is calculated as 64 (number of output channels from `conv2`) * 7 (height of the output from `maxpool2`) * 7 (width of the output from `maxpool2`).\n",
        "\n",
        "You can adjust the hyperparameters (number of channels, kernel sizes, strides, padding, etc.) to improve the performance of the network or to fit your specific problem and dataset."
      ]
    },
    {
      "cell_type": "markdown",
      "metadata": {
        "id": "0eDL77wM2CfU"
      },
      "source": [
        "Now here's what the architecture of our two networks that you have developed looks like:"
      ]
    },
    {
      "cell_type": "code",
      "execution_count": 12,
      "metadata": {
        "id": "hs6msmo32zV3"
      },
      "outputs": [
        {
          "name": "stdout",
          "output_type": "stream",
          "text": [
            "Dense MLP Model:\n",
            "Sequential(\n",
            "  (fc1): Linear(in_features=784, out_features=512, bias=True)\n",
            "  (relu1): ReLU()\n",
            "  (dropout1): Dropout(p=0.2, inplace=False)\n",
            "  (fc2): Linear(in_features=512, out_features=10, bias=True)\n",
            ")\n",
            "\n",
            "CNN Network Model:\n",
            "Sequential(\n",
            "  (conv1): Conv2d(1, 32, kernel_size=(3, 3), stride=(1, 1), padding=(1, 1))\n",
            "  (relu1): ReLU()\n",
            "  (maxpool1): MaxPool2d(kernel_size=2, stride=2, padding=0, dilation=1, ceil_mode=False)\n",
            "  (conv2): Conv2d(32, 64, kernel_size=(3, 3), stride=(1, 1), padding=(1, 1))\n",
            "  (relu2): ReLU()\n",
            "  (maxpool2): MaxPool2d(kernel_size=2, stride=2, padding=0, dilation=1, ceil_mode=False)\n",
            "  (flatten): Flatten(start_dim=1, end_dim=-1)\n",
            "  (fc1): Linear(in_features=3136, out_features=128, bias=True)\n",
            "  (relu3): ReLU()\n",
            "  (dropout1): Dropout(p=0.2, inplace=False)\n",
            "  (fc2): Linear(in_features=128, out_features=10, bias=True)\n",
            ")\n"
          ]
        }
      ],
      "source": [
        "print(\"Dense MLP Model:\")\n",
        "print(model_dense)\n",
        "\n",
        "print(\"\\nCNN Network Model:\")\n",
        "print(model)"
      ]
    },
    {
      "cell_type": "markdown",
      "metadata": {
        "id": "O3SOqIE02Tur"
      },
      "source": [
        "Now, let's train our ConvNet on the Fashion MNIST digits. You can[ learn more about the Fashion-MNIST data set](https://github.com/zalandoresearch/fashion-mnist).\n",
        "\n",
        "We specify the root directory to store the dataset, download the training data, if not present on the local machine, and then apply the transforms. ToTensor to turn images into Tensor so we can directly use it with our network. The dataset is stored in the dataset class named `train_set` and the test data in (unsurprisingly) `test_set`."
      ]
    },
    {
      "cell_type": "code",
      "execution_count": 13,
      "metadata": {
        "id": "ficLeQynybw1"
      },
      "outputs": [
        {
          "name": "stdout",
          "output_type": "stream",
          "text": [
            "Dataset FashionMNIST\n",
            "    Number of datapoints: 60000\n",
            "    Root location: ./data/FashionMNIST\n",
            "    Split: Train\n",
            "    StandardTransform\n",
            "Transform: Compose(\n",
            "               ToTensor()\n",
            "           ) Dataset FashionMNIST\n",
            "    Number of datapoints: 10000\n",
            "    Root location: ./data/FashionMNIST\n",
            "    Split: Test\n",
            "    StandardTransform\n",
            "Transform: Compose(\n",
            "               ToTensor()\n",
            "           )\n"
          ]
        }
      ],
      "source": [
        "import torchvision\n",
        "import torchvision.transforms as transforms\n",
        "\n",
        "# Use standard FashionMNIST dataset\n",
        "train_set = torchvision.datasets.FashionMNIST(\n",
        "    root = './data/FashionMNIST',\n",
        "    train = True,\n",
        "    download = True,\n",
        "    transform = transforms.Compose([\n",
        "        transforms.ToTensor()\n",
        "    ])\n",
        ")\n",
        "\n",
        "test_set = torchvision.datasets.FashionMNIST(\n",
        "    root = './data/FashionMNIST',\n",
        "    train = False,\n",
        "    download = True,\n",
        "    transform = transforms.Compose([\n",
        "        transforms.ToTensor()\n",
        "    ])\n",
        ")\n",
        "print(train_set, test_set)"
      ]
    },
    {
      "cell_type": "markdown",
      "metadata": {
        "id": "QGBQKeHIGYAe"
      },
      "source": [
        "Then we need to define functions for training and testing our networks, the training loop here is fairly standard and is very much the same as in previous weeks."
      ]
    },
    {
      "cell_type": "code",
      "execution_count": 14,
      "metadata": {
        "id": "IGCMMnNBwk3t"
      },
      "outputs": [],
      "source": [
        "import datetime\n",
        "epoch_print_gap = 1\n",
        "\n",
        "def training_loop(n_epochs, optimizer, model, device, loss_fn, train_loader):\n",
        "    model = model.to(device)\n",
        "    for epoch in range(1, n_epochs + 1):\n",
        "        loss_train = 0.0\n",
        "        for imgs, labels in train_loader:\n",
        "            outputs = model(imgs.to(device))\n",
        "            loss = loss_fn(outputs, labels.to(device))\n",
        "\n",
        "            optimizer.zero_grad()\n",
        "            loss.backward()\n",
        "            optimizer.step()\n",
        "\n",
        "            loss_train += loss.item()\n",
        "\n",
        "        if epoch == 1 or epoch % epoch_print_gap == 0:\n",
        "            print('{} Epoch {}, Training loss {}'.format(\n",
        "                datetime.datetime.now(), epoch, float(loss_train)))\n",
        "\n",
        "def test_loop(model, device, test_loader):\n",
        "    model.eval()\n",
        "    model = model.to(device)\n",
        "    test_loss = 0\n",
        "    correct = 0\n",
        "    with torch.no_grad():\n",
        "        for data, target in test_loader:\n",
        "            data, target = data.to(device), target.to(device)\n",
        "            output = model(data)\n",
        "            test_loss += F.cross_entropy(output, target, reduction='sum').item()  # sum up batch loss\n",
        "            pred = output.argmax(dim=1, keepdim=True)  # get the index of the max log-probability\n",
        "            correct += pred.eq(target.view_as(pred)).sum().item()\n",
        "\n",
        "    test_loss /= len(test_loader.dataset)\n",
        "\n",
        "    print('\\nTest set: Average loss: {:.4f}, Accuracy: {}/{} ({:.0f}%)\\n'.format(\n",
        "        test_loss, correct, len(test_loader.dataset),\n",
        "        100. * correct / len(test_loader.dataset)))\n"
      ]
    },
    {
      "cell_type": "markdown",
      "metadata": {
        "id": "rVTyPUdIDNz9"
      },
      "source": [
        "We then initialise the parameters for the training of our networks: optimiser (Stochastic Gradient Descent here, but you can also try Adam), and data loader to pack your training data in mini-batches."
      ]
    },
    {
      "cell_type": "code",
      "execution_count": 15,
      "metadata": {
        "id": "xmHOauL40nNv"
      },
      "outputs": [
        {
          "data": {
            "image/png": "[encoded data removed]",
            "text/plain": [
              "<Figure size 640x480 with 1 Axes>"
            ]
          },
          "metadata": {},
          "output_type": "display_data"
        }
      ],
      "source": [
        "lr = 0.01\n",
        "\n",
        "# set up a loader object to use minibatches\n",
        "loader = torch.utils.data.DataLoader(train_set, batch_size = 32)\n",
        "\n",
        "# also set up a loader for test data, using a single batch\n",
        "test_loader = torch.utils.data.DataLoader(test_set)\n",
        "\n",
        "# we set the optimiser as Stochastic Gradient Descent for both networks,\n",
        "# you could also try Adam\n",
        "optimizer = optim.SGD(model.parameters(), lr=lr)\n",
        "optimizer_dense = optim.SGD(model_dense.parameters(), lr=lr)\n",
        "#optimizer = optim.Adam(model.parameters(), lr=lr)\n",
        "#optimizer_dense = optim.Adam(model_dense.parameters(), lr=lr)\n",
        "\n",
        "# show the first batch of training data\n",
        "images, labels = next(iter(loader))\n",
        "grid = torchvision.utils.make_grid(images)\n",
        "plt.imshow(np.transpose(grid.numpy(), (1,2,0)), interpolation='nearest')\n",
        "\n",
        "# set the loss function to optimise. Cross Entropy is usually the best for\n",
        "# classification\n",
        "loss_fn = nn.CrossEntropyLoss()"
      ]
    },
    {
      "cell_type": "markdown",
      "metadata": {
        "id": "seClxybaFQnF"
      },
      "source": [
        "Finally, we can call the training loop on both models to see how they train. It is a good idea here to ensure some output in your training function so that you get a feeling how fast (and how well) the training goes and that you can abort a training that would be unreasonably long...\n",
        "\n",
        "You could also use `tensorboard` for this purpose, but it is a bit messier to set up, so we will only use printouts at this stage.\n",
        "\n",
        "(https://pytorch.org/tutorials/intermediate/tensorboard_tutorial.html)"
      ]
    },
    {
      "cell_type": "code",
      "execution_count": 16,
      "metadata": {
        "id": "IHM4onO8wr3v"
      },
      "outputs": [
        {
          "name": "stdout",
          "output_type": "stream",
          "text": [
            "2024-05-02 00:56:19.312430 Epoch 1, Training loss 1686.8599944114685\n",
            "2024-05-02 00:56:59.172764 Epoch 2, Training loss 1037.8798637837172\n"
          ]
        },
        {
          "ename": "RuntimeError",
          "evalue": "mat1 and mat2 shapes cannot be multiplied (896x28 and 784x512)",
          "output_type": "error",
          "traceback": [
            "\u001b[0;31m---------------------------------------------------------------------------\u001b[0m",
            "\u001b[0;31mRuntimeError\u001b[0m                              Traceback (most recent call last)",
            "Cell \u001b[0;32mIn[16], line 18\u001b[0m\n\u001b[1;32m      7\u001b[0m training_loop(\n\u001b[1;32m      8\u001b[0m     n_epochs \u001b[38;5;241m=\u001b[39m n_epochs,\n\u001b[1;32m      9\u001b[0m     optimizer \u001b[38;5;241m=\u001b[39m optimizer,\n\u001b[0;32m   (...)\u001b[0m\n\u001b[1;32m     13\u001b[0m     train_loader \u001b[38;5;241m=\u001b[39m loader,\n\u001b[1;32m     14\u001b[0m )\n\u001b[1;32m     17\u001b[0m \u001b[38;5;66;03m# train the dense model\u001b[39;00m\n\u001b[0;32m---> 18\u001b[0m training_loop(\n\u001b[1;32m     19\u001b[0m     n_epochs \u001b[38;5;241m=\u001b[39m n_epochs,\n\u001b[1;32m     20\u001b[0m     optimizer \u001b[38;5;241m=\u001b[39m optimizer_dense,\n\u001b[1;32m     21\u001b[0m     model \u001b[38;5;241m=\u001b[39m model_dense,\n\u001b[1;32m     22\u001b[0m     device \u001b[38;5;241m=\u001b[39m device,\n\u001b[1;32m     23\u001b[0m     loss_fn \u001b[38;5;241m=\u001b[39m loss_fn,\n\u001b[1;32m     24\u001b[0m     train_loader \u001b[38;5;241m=\u001b[39m loader,\n\u001b[1;32m     25\u001b[0m )\n",
            "Cell \u001b[0;32mIn[14], line 9\u001b[0m, in \u001b[0;36mtraining_loop\u001b[0;34m(n_epochs, optimizer, model, device, loss_fn, train_loader)\u001b[0m\n\u001b[1;32m      7\u001b[0m loss_train \u001b[38;5;241m=\u001b[39m \u001b[38;5;241m0.0\u001b[39m\n\u001b[1;32m      8\u001b[0m \u001b[38;5;28;01mfor\u001b[39;00m imgs, labels \u001b[38;5;129;01min\u001b[39;00m train_loader:\n\u001b[0;32m----> 9\u001b[0m     outputs \u001b[38;5;241m=\u001b[39m model(imgs\u001b[38;5;241m.\u001b[39mto(device))\n\u001b[1;32m     10\u001b[0m     loss \u001b[38;5;241m=\u001b[39m loss_fn(outputs, labels\u001b[38;5;241m.\u001b[39mto(device))\n\u001b[1;32m     12\u001b[0m     optimizer\u001b[38;5;241m.\u001b[39mzero_grad()\n",
            "File \u001b[0;32m~/anaconda3/lib/python3.11/site-packages/torch/nn/modules/module.py:1511\u001b[0m, in \u001b[0;36mModule._wrapped_call_impl\u001b[0;34m(self, *args, **kwargs)\u001b[0m\n\u001b[1;32m   1509\u001b[0m     \u001b[38;5;28;01mreturn\u001b[39;00m \u001b[38;5;28mself\u001b[39m\u001b[38;5;241m.\u001b[39m_compiled_call_impl(\u001b[38;5;241m*\u001b[39margs, \u001b[38;5;241m*\u001b[39m\u001b[38;5;241m*\u001b[39mkwargs)  \u001b[38;5;66;03m# type: ignore[misc]\u001b[39;00m\n\u001b[1;32m   1510\u001b[0m \u001b[38;5;28;01melse\u001b[39;00m:\n\u001b[0;32m-> 1511\u001b[0m     \u001b[38;5;28;01mreturn\u001b[39;00m \u001b[38;5;28mself\u001b[39m\u001b[38;5;241m.\u001b[39m_call_impl(\u001b[38;5;241m*\u001b[39margs, \u001b[38;5;241m*\u001b[39m\u001b[38;5;241m*\u001b[39mkwargs)\n",
            "File \u001b[0;32m~/anaconda3/lib/python3.11/site-packages/torch/nn/modules/module.py:1520\u001b[0m, in \u001b[0;36mModule._call_impl\u001b[0;34m(self, *args, **kwargs)\u001b[0m\n\u001b[1;32m   1515\u001b[0m \u001b[38;5;66;03m# If we don't have any hooks, we want to skip the rest of the logic in\u001b[39;00m\n\u001b[1;32m   1516\u001b[0m \u001b[38;5;66;03m# this function, and just call forward.\u001b[39;00m\n\u001b[1;32m   1517\u001b[0m \u001b[38;5;28;01mif\u001b[39;00m \u001b[38;5;129;01mnot\u001b[39;00m (\u001b[38;5;28mself\u001b[39m\u001b[38;5;241m.\u001b[39m_backward_hooks \u001b[38;5;129;01mor\u001b[39;00m \u001b[38;5;28mself\u001b[39m\u001b[38;5;241m.\u001b[39m_backward_pre_hooks \u001b[38;5;129;01mor\u001b[39;00m \u001b[38;5;28mself\u001b[39m\u001b[38;5;241m.\u001b[39m_forward_hooks \u001b[38;5;129;01mor\u001b[39;00m \u001b[38;5;28mself\u001b[39m\u001b[38;5;241m.\u001b[39m_forward_pre_hooks\n\u001b[1;32m   1518\u001b[0m         \u001b[38;5;129;01mor\u001b[39;00m _global_backward_pre_hooks \u001b[38;5;129;01mor\u001b[39;00m _global_backward_hooks\n\u001b[1;32m   1519\u001b[0m         \u001b[38;5;129;01mor\u001b[39;00m _global_forward_hooks \u001b[38;5;129;01mor\u001b[39;00m _global_forward_pre_hooks):\n\u001b[0;32m-> 1520\u001b[0m     \u001b[38;5;28;01mreturn\u001b[39;00m forward_call(\u001b[38;5;241m*\u001b[39margs, \u001b[38;5;241m*\u001b[39m\u001b[38;5;241m*\u001b[39mkwargs)\n\u001b[1;32m   1522\u001b[0m \u001b[38;5;28;01mtry\u001b[39;00m:\n\u001b[1;32m   1523\u001b[0m     result \u001b[38;5;241m=\u001b[39m \u001b[38;5;28;01mNone\u001b[39;00m\n",
            "File \u001b[0;32m~/anaconda3/lib/python3.11/site-packages/torch/nn/modules/container.py:217\u001b[0m, in \u001b[0;36mSequential.forward\u001b[0;34m(self, input)\u001b[0m\n\u001b[1;32m    215\u001b[0m \u001b[38;5;28;01mdef\u001b[39;00m \u001b[38;5;21mforward\u001b[39m(\u001b[38;5;28mself\u001b[39m, \u001b[38;5;28minput\u001b[39m):\n\u001b[1;32m    216\u001b[0m     \u001b[38;5;28;01mfor\u001b[39;00m module \u001b[38;5;129;01min\u001b[39;00m \u001b[38;5;28mself\u001b[39m:\n\u001b[0;32m--> 217\u001b[0m         \u001b[38;5;28minput\u001b[39m \u001b[38;5;241m=\u001b[39m module(\u001b[38;5;28minput\u001b[39m)\n\u001b[1;32m    218\u001b[0m     \u001b[38;5;28;01mreturn\u001b[39;00m \u001b[38;5;28minput\u001b[39m\n",
            "File \u001b[0;32m~/anaconda3/lib/python3.11/site-packages/torch/nn/modules/module.py:1511\u001b[0m, in \u001b[0;36mModule._wrapped_call_impl\u001b[0;34m(self, *args, **kwargs)\u001b[0m\n\u001b[1;32m   1509\u001b[0m     \u001b[38;5;28;01mreturn\u001b[39;00m \u001b[38;5;28mself\u001b[39m\u001b[38;5;241m.\u001b[39m_compiled_call_impl(\u001b[38;5;241m*\u001b[39margs, \u001b[38;5;241m*\u001b[39m\u001b[38;5;241m*\u001b[39mkwargs)  \u001b[38;5;66;03m# type: ignore[misc]\u001b[39;00m\n\u001b[1;32m   1510\u001b[0m \u001b[38;5;28;01melse\u001b[39;00m:\n\u001b[0;32m-> 1511\u001b[0m     \u001b[38;5;28;01mreturn\u001b[39;00m \u001b[38;5;28mself\u001b[39m\u001b[38;5;241m.\u001b[39m_call_impl(\u001b[38;5;241m*\u001b[39margs, \u001b[38;5;241m*\u001b[39m\u001b[38;5;241m*\u001b[39mkwargs)\n",
            "File \u001b[0;32m~/anaconda3/lib/python3.11/site-packages/torch/nn/modules/module.py:1520\u001b[0m, in \u001b[0;36mModule._call_impl\u001b[0;34m(self, *args, **kwargs)\u001b[0m\n\u001b[1;32m   1515\u001b[0m \u001b[38;5;66;03m# If we don't have any hooks, we want to skip the rest of the logic in\u001b[39;00m\n\u001b[1;32m   1516\u001b[0m \u001b[38;5;66;03m# this function, and just call forward.\u001b[39;00m\n\u001b[1;32m   1517\u001b[0m \u001b[38;5;28;01mif\u001b[39;00m \u001b[38;5;129;01mnot\u001b[39;00m (\u001b[38;5;28mself\u001b[39m\u001b[38;5;241m.\u001b[39m_backward_hooks \u001b[38;5;129;01mor\u001b[39;00m \u001b[38;5;28mself\u001b[39m\u001b[38;5;241m.\u001b[39m_backward_pre_hooks \u001b[38;5;129;01mor\u001b[39;00m \u001b[38;5;28mself\u001b[39m\u001b[38;5;241m.\u001b[39m_forward_hooks \u001b[38;5;129;01mor\u001b[39;00m \u001b[38;5;28mself\u001b[39m\u001b[38;5;241m.\u001b[39m_forward_pre_hooks\n\u001b[1;32m   1518\u001b[0m         \u001b[38;5;129;01mor\u001b[39;00m _global_backward_pre_hooks \u001b[38;5;129;01mor\u001b[39;00m _global_backward_hooks\n\u001b[1;32m   1519\u001b[0m         \u001b[38;5;129;01mor\u001b[39;00m _global_forward_hooks \u001b[38;5;129;01mor\u001b[39;00m _global_forward_pre_hooks):\n\u001b[0;32m-> 1520\u001b[0m     \u001b[38;5;28;01mreturn\u001b[39;00m forward_call(\u001b[38;5;241m*\u001b[39margs, \u001b[38;5;241m*\u001b[39m\u001b[38;5;241m*\u001b[39mkwargs)\n\u001b[1;32m   1522\u001b[0m \u001b[38;5;28;01mtry\u001b[39;00m:\n\u001b[1;32m   1523\u001b[0m     result \u001b[38;5;241m=\u001b[39m \u001b[38;5;28;01mNone\u001b[39;00m\n",
            "File \u001b[0;32m~/anaconda3/lib/python3.11/site-packages/torch/nn/modules/linear.py:116\u001b[0m, in \u001b[0;36mLinear.forward\u001b[0;34m(self, input)\u001b[0m\n\u001b[1;32m    115\u001b[0m \u001b[38;5;28;01mdef\u001b[39;00m \u001b[38;5;21mforward\u001b[39m(\u001b[38;5;28mself\u001b[39m, \u001b[38;5;28minput\u001b[39m: Tensor) \u001b[38;5;241m-\u001b[39m\u001b[38;5;241m>\u001b[39m Tensor:\n\u001b[0;32m--> 116\u001b[0m     \u001b[38;5;28;01mreturn\u001b[39;00m F\u001b[38;5;241m.\u001b[39mlinear(\u001b[38;5;28minput\u001b[39m, \u001b[38;5;28mself\u001b[39m\u001b[38;5;241m.\u001b[39mweight, \u001b[38;5;28mself\u001b[39m\u001b[38;5;241m.\u001b[39mbias)\n",
            "\u001b[0;31mRuntimeError\u001b[0m: mat1 and mat2 shapes cannot be multiplied (896x28 and 784x512)"
          ]
        }
      ],
      "source": [
        "# set the number of epochs: The number of time that the whole training set\n",
        "# will be seen by the network during training\n",
        "n_epochs = 2 # see how sensitive results are to this\n",
        "\n",
        "\n",
        "# train the CNN\n",
        "training_loop(\n",
        "    n_epochs = n_epochs,\n",
        "    optimizer = optimizer,\n",
        "    model = model,\n",
        "    device = device,\n",
        "    loss_fn = loss_fn,\n",
        "    train_loader = loader,\n",
        ")\n",
        "\n",
        "\n",
        "# train the dense model\n",
        "training_loop(\n",
        "    n_epochs = n_epochs,\n",
        "    optimizer = optimizer_dense,\n",
        "    model = model_dense,\n",
        "    device = device,\n",
        "    loss_fn = loss_fn,\n",
        "    train_loader = loader,\n",
        ")"
      ]
    },
    {
      "cell_type": "markdown",
      "metadata": {
        "id": "zxOKQhwdOcaO"
      },
      "source": [
        "We can then run the test loop using the two different models to assess performance."
      ]
    },
    {
      "cell_type": "code",
      "execution_count": null,
      "metadata": {
        "id": "Xa7UGRq5E8To"
      },
      "outputs": [],
      "source": [
        "test_loop(model = model, device = device, test_loader = test_loader)\n",
        "test_loop(model = model_dense, device = device, test_loader = test_loader)"
      ]
    },
    {
      "cell_type": "markdown",
      "metadata": {
        "id": "_V_S4JkKTgum"
      },
      "source": [
        "How well did your two models do for this task ?\n",
        "\n",
        "For \"similar sized\" networks - you should find the CNN network outperforms a fully connected one.\n",
        "\n",
        "Also - when the fully connected one has vastly more parameters (as described in the lecture) - you should find that it performs poorly on the test data due to overfitting.\n",
        "\n",
        "Try experimenting with your network architectures and different approaches to optimization (does SGD or Adam optimize better in this case?) What happens if you set the learning rate (\"lr\") to a very high value? What happens if you set it to a very low value?"
      ]
    }
  ],
  "metadata": {
    "accelerator": "GPU",
    "colab": {
      "collapsed_sections": [
        "69z7xsgG0dUE"
      ],
      "gpuType": "T4",
      "provenance": []
    },
    "kernelspec": {
      "display_name": "Python 3",
      "name": "python3"
    },
    "language_info": {
      "codemirror_mode": {
        "name": "ipython",
        "version": 3
      },
      "file_extension": ".py",
      "mimetype": "text/x-python",
      "name": "python",
      "nbconvert_exporter": "python",
      "pygments_lexer": "ipython3",
      "version": "3.11.5"
    }
  },
  "nbformat": 4,
  "nbformat_minor": 0
}
